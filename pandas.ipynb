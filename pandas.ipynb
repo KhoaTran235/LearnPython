{
  "nbformat": 4,
  "nbformat_minor": 0,
  "metadata": {
    "colab": {
      "provenance": [],
      "toc_visible": true
    },
    "kernelspec": {
      "name": "python3",
      "display_name": "Python 3"
    },
    "language_info": {
      "name": "python"
    }
  },
  "cells": [
    {
      "cell_type": "markdown",
      "source": [
        "# Pandas Tutorial"
      ],
      "metadata": {
        "id": "Q8eV91y5WqkM"
      }
    },
    {
      "cell_type": "code",
      "source": [
        "import pandas as pd"
      ],
      "metadata": {
        "id": "-QEuePUuMJ2v"
      },
      "execution_count": 2,
      "outputs": []
    },
    {
      "cell_type": "code",
      "source": [
        "mydataset = {\n",
        "    'cars': [\"BMW\", \"Volvo\", \"Ford\"],\n",
        "    'passings': [3, 7, 2]\n",
        "}\n",
        "\n",
        "myvar = pd.DataFrame(mydataset)\n",
        "print(myvar)"
      ],
      "metadata": {
        "colab": {
          "base_uri": "https://localhost:8080/"
        },
        "id": "48CpQVAJMa01",
        "outputId": "c3949a61-0141-419b-8b20-ed05370e4b78"
      },
      "execution_count": 3,
      "outputs": [
        {
          "output_type": "stream",
          "name": "stdout",
          "text": [
            "    cars  passings\n",
            "0    BMW         3\n",
            "1  Volvo         7\n",
            "2   Ford         2\n"
          ]
        }
      ]
    },
    {
      "cell_type": "code",
      "source": [
        "print(pd.__version__)"
      ],
      "metadata": {
        "colab": {
          "base_uri": "https://localhost:8080/"
        },
        "id": "IfTSI_roM6u8",
        "outputId": "ef3288b0-c1e5-4743-a3fd-2937623a4851"
      },
      "execution_count": 4,
      "outputs": [
        {
          "output_type": "stream",
          "name": "stdout",
          "text": [
            "1.5.3\n"
          ]
        }
      ]
    },
    {
      "cell_type": "markdown",
      "source": [
        "## Pandas Series"
      ],
      "metadata": {
        "id": "hgJmQvSWNQ0X"
      }
    },
    {
      "cell_type": "markdown",
      "source": [
        "**What is a Series?**\n",
        "\n",
        "A Pandas Series is like a column in a table.\n",
        "\n",
        "It is a one-dimensional array holding data of any type.\n",
        "\n",
        "Create a simple Pandas Series from a list:"
      ],
      "metadata": {
        "id": "O36_l2nqNcb9"
      }
    },
    {
      "cell_type": "code",
      "source": [
        "a = [1, 7, 3]\n",
        "myvar = pd.Series(a)\n",
        "print(myvar)"
      ],
      "metadata": {
        "colab": {
          "base_uri": "https://localhost:8080/"
        },
        "id": "7rCifj1pM9JV",
        "outputId": "fb3cc6f2-b118-4258-c457-545e667bf48e"
      },
      "execution_count": 5,
      "outputs": [
        {
          "output_type": "stream",
          "name": "stdout",
          "text": [
            "0    1\n",
            "1    7\n",
            "2    3\n",
            "dtype: int64\n"
          ]
        }
      ]
    },
    {
      "cell_type": "markdown",
      "source": [
        "**Labels**\n",
        "\n",
        "If nothing else is specified, the values are labeled with their index number. First value has index 0, second value has index 1 etc.\n",
        "\n",
        "This label can be used to access a specified value."
      ],
      "metadata": {
        "id": "VxK6yZ0cNvC_"
      }
    },
    {
      "cell_type": "code",
      "source": [
        "print(myvar[0])"
      ],
      "metadata": {
        "colab": {
          "base_uri": "https://localhost:8080/"
        },
        "id": "JNanIVZANH6R",
        "outputId": "c1f992d5-4538-4876-c31d-4722ba85330b"
      },
      "execution_count": 6,
      "outputs": [
        {
          "output_type": "stream",
          "name": "stdout",
          "text": [
            "1\n"
          ]
        }
      ]
    },
    {
      "cell_type": "markdown",
      "source": [
        "**Create Labels**\n",
        "\n",
        "With the **index** argument, you can name your own labels."
      ],
      "metadata": {
        "id": "OLIMlFpzORdm"
      }
    },
    {
      "cell_type": "code",
      "source": [
        "myvar1 = pd.Series(a, index = [\"x\", \"y\", \"z\"])\n",
        "\n",
        "print(myvar1)"
      ],
      "metadata": {
        "colab": {
          "base_uri": "https://localhost:8080/"
        },
        "id": "YW3sYwoFOZ6I",
        "outputId": "a8504d74-29c5-4cf0-8b3b-ef15d2edfe87"
      },
      "execution_count": 7,
      "outputs": [
        {
          "output_type": "stream",
          "name": "stdout",
          "text": [
            "x    1\n",
            "y    7\n",
            "z    3\n",
            "dtype: int64\n"
          ]
        }
      ]
    },
    {
      "cell_type": "code",
      "source": [
        "print(myvar1[\"z\"])"
      ],
      "metadata": {
        "colab": {
          "base_uri": "https://localhost:8080/"
        },
        "id": "DweS3mS5On8d",
        "outputId": "e571b3bf-cd41-42c7-c720-6707638987b0"
      },
      "execution_count": 8,
      "outputs": [
        {
          "output_type": "stream",
          "name": "stdout",
          "text": [
            "3\n"
          ]
        }
      ]
    },
    {
      "cell_type": "markdown",
      "source": [
        "## Pandas DataFrames"
      ],
      "metadata": {
        "id": "uD-DWixbO6eI"
      }
    },
    {
      "cell_type": "markdown",
      "source": [
        "**What is a DataFrame?**\n",
        "\n",
        "A Pandas DataFrame is a 2 dimensional data structure, like a 2 dimensional array, or a table with rows and columns."
      ],
      "metadata": {
        "id": "6TlYS60-O_nY"
      }
    },
    {
      "cell_type": "code",
      "source": [
        "data = {\n",
        "  \"calories\": [420, 380, 390],\n",
        "  \"duration\": [50, 40, 45]\n",
        "}\n",
        "\n",
        "#load data into a DataFrame object:\n",
        "df = pd.DataFrame(data)\n",
        "\n",
        "print(df)"
      ],
      "metadata": {
        "colab": {
          "base_uri": "https://localhost:8080/"
        },
        "id": "F_LAKxFmOz6V",
        "outputId": "b4b31276-cf7d-4665-a12a-66726d7976a4"
      },
      "execution_count": 9,
      "outputs": [
        {
          "output_type": "stream",
          "name": "stdout",
          "text": [
            "   calories  duration\n",
            "0       420        50\n",
            "1       380        40\n",
            "2       390        45\n"
          ]
        }
      ]
    },
    {
      "cell_type": "markdown",
      "source": [
        "**Locate Row**\n",
        "\n",
        "As you can see from the result above, the DataFrame is like a table with rows and columns.\n",
        "\n",
        "Pandas use the **loc** attribute to return one or more specified row(s)"
      ],
      "metadata": {
        "id": "kBwRAOmEPPSy"
      }
    },
    {
      "cell_type": "code",
      "source": [
        "print(df.loc[1])\n",
        "# Note: This example returns a Pandas Series."
      ],
      "metadata": {
        "colab": {
          "base_uri": "https://localhost:8080/"
        },
        "id": "UPqvQ1loPYdC",
        "outputId": "2a5ed438-a194-40e4-c469-ffb5857b747c"
      },
      "execution_count": 10,
      "outputs": [
        {
          "output_type": "stream",
          "name": "stdout",
          "text": [
            "calories    380\n",
            "duration     40\n",
            "Name: 1, dtype: int64\n"
          ]
        }
      ]
    },
    {
      "cell_type": "code",
      "source": [
        "print(df.loc[[2,0]])\n",
        "# row2 \\n row0\n",
        "# Note: When using [], the result is a Pandas DataFrame."
      ],
      "metadata": {
        "colab": {
          "base_uri": "https://localhost:8080/"
        },
        "id": "S8xhMB0RPcRG",
        "outputId": "b85e30c1-86fb-4864-be7c-c7f35cf6634a"
      },
      "execution_count": 11,
      "outputs": [
        {
          "output_type": "stream",
          "name": "stdout",
          "text": [
            "   calories  duration\n",
            "2       390        45\n",
            "0       420        50\n"
          ]
        }
      ]
    },
    {
      "cell_type": "markdown",
      "source": [
        "**Named Indexes**\n",
        "\n",
        "With the **index** argument, you can name your own indexes."
      ],
      "metadata": {
        "id": "X13vtE5mQKYQ"
      }
    },
    {
      "cell_type": "code",
      "source": [
        "df = pd.DataFrame(data, index = [\"day1\", \"day2\", \"day3\"])\n",
        "\n",
        "print(df)"
      ],
      "metadata": {
        "colab": {
          "base_uri": "https://localhost:8080/"
        },
        "id": "yYUcOoniPpIv",
        "outputId": "901c3bc5-1965-44c1-b176-57cb9c165f27"
      },
      "execution_count": 12,
      "outputs": [
        {
          "output_type": "stream",
          "name": "stdout",
          "text": [
            "      calories  duration\n",
            "day1       420        50\n",
            "day2       380        40\n",
            "day3       390        45\n"
          ]
        }
      ]
    },
    {
      "cell_type": "code",
      "source": [
        "print(df.loc[\"day2\"])"
      ],
      "metadata": {
        "colab": {
          "base_uri": "https://localhost:8080/"
        },
        "id": "_e6ySm5tQQXQ",
        "outputId": "2e6fab74-1d35-4fc4-e423-adf278421f98"
      },
      "execution_count": 13,
      "outputs": [
        {
          "output_type": "stream",
          "name": "stdout",
          "text": [
            "calories    380\n",
            "duration     40\n",
            "Name: day2, dtype: int64\n"
          ]
        }
      ]
    },
    {
      "cell_type": "markdown",
      "source": [
        "**Load Files Into a DataFrame**\n",
        "\n",
        "If your data sets are stored in a file, Pandas can load them into a DataFrame."
      ],
      "metadata": {
        "id": "JaOZ7HHeQeqx"
      }
    },
    {
      "cell_type": "code",
      "source": [
        "df = pd.read_csv('/content/sample_data/california_housing_train.csv')\n",
        "\n",
        "print(df)"
      ],
      "metadata": {
        "colab": {
          "base_uri": "https://localhost:8080/"
        },
        "id": "MvofvMnuQni1",
        "outputId": "56a5cbc6-de18-4d09-a780-fa65f6b51d68"
      },
      "execution_count": 14,
      "outputs": [
        {
          "output_type": "stream",
          "name": "stdout",
          "text": [
            "       longitude  latitude  housing_median_age  total_rooms  total_bedrooms  \\\n",
            "0        -114.31     34.19                15.0       5612.0          1283.0   \n",
            "1        -114.47     34.40                19.0       7650.0          1901.0   \n",
            "2        -114.56     33.69                17.0        720.0           174.0   \n",
            "3        -114.57     33.64                14.0       1501.0           337.0   \n",
            "4        -114.57     33.57                20.0       1454.0           326.0   \n",
            "...          ...       ...                 ...          ...             ...   \n",
            "16995    -124.26     40.58                52.0       2217.0           394.0   \n",
            "16996    -124.27     40.69                36.0       2349.0           528.0   \n",
            "16997    -124.30     41.84                17.0       2677.0           531.0   \n",
            "16998    -124.30     41.80                19.0       2672.0           552.0   \n",
            "16999    -124.35     40.54                52.0       1820.0           300.0   \n",
            "\n",
            "       population  households  median_income  median_house_value  \n",
            "0          1015.0       472.0         1.4936             66900.0  \n",
            "1          1129.0       463.0         1.8200             80100.0  \n",
            "2           333.0       117.0         1.6509             85700.0  \n",
            "3           515.0       226.0         3.1917             73400.0  \n",
            "4           624.0       262.0         1.9250             65500.0  \n",
            "...           ...         ...            ...                 ...  \n",
            "16995       907.0       369.0         2.3571            111400.0  \n",
            "16996      1194.0       465.0         2.5179             79000.0  \n",
            "16997      1244.0       456.0         3.0313            103600.0  \n",
            "16998      1298.0       478.0         1.9797             85800.0  \n",
            "16999       806.0       270.0         3.0147             94600.0  \n",
            "\n",
            "[17000 rows x 9 columns]\n"
          ]
        }
      ]
    },
    {
      "cell_type": "markdown",
      "source": [
        "## Read CSV Files\n",
        "\n",
        "A simple way to store big data sets is to use CSV files (comma separated files).\n",
        "\n",
        "CSV files contains plain text and is a well know format that can be read by everyone including Pandas.\n",
        "\n",
        "*(code above)*"
      ],
      "metadata": {
        "id": "73pSCIHXQmt8"
      }
    },
    {
      "cell_type": "code",
      "source": [
        "print(df.to_string())\n",
        "# use to_string() to print the entire DataFrame."
      ],
      "metadata": {
        "id": "FyuQ-cMbRXIR"
      },
      "execution_count": null,
      "outputs": []
    },
    {
      "cell_type": "markdown",
      "source": [
        "**max_rows**\n",
        "\n",
        "The number of rows returned is defined in Pandas option settings.\n",
        "\n",
        "You can check your system's maximum rows with the **pd.options.display.max_rows** statement."
      ],
      "metadata": {
        "id": "G-rmp-yTR6FY"
      }
    },
    {
      "cell_type": "code",
      "source": [
        "print(pd.options.display.max_rows)"
      ],
      "metadata": {
        "colab": {
          "base_uri": "https://localhost:8080/"
        },
        "id": "p42S2yZfRnQe",
        "outputId": "c1c5b002-354c-4218-909d-f390a79117e0"
      },
      "execution_count": 16,
      "outputs": [
        {
          "output_type": "stream",
          "name": "stdout",
          "text": [
            "60\n"
          ]
        }
      ]
    },
    {
      "cell_type": "markdown",
      "source": [
        "In my system the number is 60, which means that if the DataFrame contains more than 60 rows, the **print(df)** statement will return only the headers and the first and last 5 rows.\n",
        "\n",
        "You can change the maximum rows number with the same statement."
      ],
      "metadata": {
        "id": "BdtxDvdnSRsx"
      }
    },
    {
      "cell_type": "code",
      "source": [
        "pd.options.display.max_rows = 9999\n",
        "\n",
        "df = pd.read_csv('/content/sample_data/california_housing_train.csv')\n",
        "\n",
        "print(df)"
      ],
      "metadata": {
        "colab": {
          "base_uri": "https://localhost:8080/"
        },
        "id": "lWwb3hIzSZx6",
        "outputId": "b3a73fb4-30aa-4933-e092-12ab00e61eeb"
      },
      "execution_count": 20,
      "outputs": [
        {
          "output_type": "stream",
          "name": "stdout",
          "text": [
            "       longitude  latitude  housing_median_age  total_rooms  total_bedrooms  \\\n",
            "0        -114.31     34.19                15.0       5612.0          1283.0   \n",
            "1        -114.47     34.40                19.0       7650.0          1901.0   \n",
            "2        -114.56     33.69                17.0        720.0           174.0   \n",
            "3        -114.57     33.64                14.0       1501.0           337.0   \n",
            "4        -114.57     33.57                20.0       1454.0           326.0   \n",
            "...          ...       ...                 ...          ...             ...   \n",
            "16995    -124.26     40.58                52.0       2217.0           394.0   \n",
            "16996    -124.27     40.69                36.0       2349.0           528.0   \n",
            "16997    -124.30     41.84                17.0       2677.0           531.0   \n",
            "16998    -124.30     41.80                19.0       2672.0           552.0   \n",
            "16999    -124.35     40.54                52.0       1820.0           300.0   \n",
            "\n",
            "       population  households  median_income  median_house_value  \n",
            "0          1015.0       472.0         1.4936             66900.0  \n",
            "1          1129.0       463.0         1.8200             80100.0  \n",
            "2           333.0       117.0         1.6509             85700.0  \n",
            "3           515.0       226.0         3.1917             73400.0  \n",
            "4           624.0       262.0         1.9250             65500.0  \n",
            "...           ...         ...            ...                 ...  \n",
            "16995       907.0       369.0         2.3571            111400.0  \n",
            "16996      1194.0       465.0         2.5179             79000.0  \n",
            "16997      1244.0       456.0         3.0313            103600.0  \n",
            "16998      1298.0       478.0         1.9797             85800.0  \n",
            "16999       806.0       270.0         3.0147             94600.0  \n",
            "\n",
            "[17000 rows x 9 columns]\n"
          ]
        }
      ]
    },
    {
      "cell_type": "markdown",
      "source": [
        "## Pandas Read JSON"
      ],
      "metadata": {
        "id": "mqNwMgOVS_CV"
      }
    },
    {
      "cell_type": "markdown",
      "source": [
        "**Read JSON**\n",
        "\n",
        "Big data sets are often stored, or extracted as JSON.\n",
        "\n",
        "JSON is plain text, but has the format of an object, and is well known in the world of programming, including Pandas."
      ],
      "metadata": {
        "id": "QSJNgAB1S_mL"
      }
    },
    {
      "cell_type": "code",
      "source": [
        "df = pd.read_json('/content/sample_data/anscombe.json')\n",
        "\n",
        "print(df.to_string())"
      ],
      "metadata": {
        "colab": {
          "base_uri": "https://localhost:8080/"
        },
        "id": "f9zjeuPfS7zN",
        "outputId": "ccd3d690-5c69-4a8d-cd5d-0dd110b1bd4b"
      },
      "execution_count": 21,
      "outputs": [
        {
          "output_type": "stream",
          "name": "stdout",
          "text": [
            "   Series   X      Y\n",
            "0       I  10   8.04\n",
            "1       I   8   6.95\n",
            "2       I  13   7.58\n",
            "3       I   9   8.81\n",
            "4       I  11   8.33\n",
            "5       I  14   9.96\n",
            "6       I   6   7.24\n",
            "7       I   4   4.26\n",
            "8       I  12  10.84\n",
            "9       I   7   4.81\n",
            "10      I   5   5.68\n",
            "11     II  10   9.14\n",
            "12     II   8   8.14\n",
            "13     II  13   8.74\n",
            "14     II   9   8.77\n",
            "15     II  11   9.26\n",
            "16     II  14   8.10\n",
            "17     II   6   6.13\n",
            "18     II   4   3.10\n",
            "19     II  12   9.13\n",
            "20     II   7   7.26\n",
            "21     II   5   4.74\n",
            "22    III  10   7.46\n",
            "23    III   8   6.77\n",
            "24    III  13  12.74\n",
            "25    III   9   7.11\n",
            "26    III  11   7.81\n",
            "27    III  14   8.84\n",
            "28    III   6   6.08\n",
            "29    III   4   5.39\n",
            "30    III  12   8.15\n",
            "31    III   7   6.42\n",
            "32    III   5   5.73\n",
            "33     IV   8   6.58\n",
            "34     IV   8   5.76\n",
            "35     IV   8   7.71\n",
            "36     IV   8   8.84\n",
            "37     IV   8   8.47\n",
            "38     IV   8   7.04\n",
            "39     IV   8   5.25\n",
            "40     IV  19  12.50\n",
            "41     IV   8   5.56\n",
            "42     IV   8   7.91\n",
            "43     IV   8   6.89\n"
          ]
        }
      ]
    },
    {
      "cell_type": "markdown",
      "source": [
        "**Dictionary as JSON**\n",
        "\n",
        "JSON = Python Dictionary\n",
        "\n",
        "JSON objects have the same format as Python dictionaries.\n",
        "\n",
        "If your JSON code is not in a file, but in a Python Dictionary, you can load it into a DataFrame directly:"
      ],
      "metadata": {
        "id": "wxpjboQQTbIu"
      }
    },
    {
      "cell_type": "code",
      "source": [
        "data = {\n",
        "  \"Duration\":{\n",
        "    \"0\":60,\n",
        "    \"1\":60,\n",
        "    \"2\":60,\n",
        "    \"3\":45,\n",
        "    \"4\":45,\n",
        "    \"5\":60\n",
        "  },\n",
        "  \"Pulse\":{\n",
        "    \"0\":110,\n",
        "    \"1\":117,\n",
        "    \"2\":103,\n",
        "    \"3\":109,\n",
        "    \"4\":117,\n",
        "    \"5\":102\n",
        "  },\n",
        "  \"Maxpulse\":{\n",
        "    \"0\":130,\n",
        "    \"1\":145,\n",
        "    \"2\":135,\n",
        "    \"3\":175,\n",
        "    \"4\":148,\n",
        "    \"5\":127\n",
        "  },\n",
        "  \"Calories\":{\n",
        "    \"0\":409,\n",
        "    \"1\":479,\n",
        "    \"2\":340,\n",
        "    \"3\":282,\n",
        "    \"4\":406,\n",
        "    \"5\":300\n",
        "  }\n",
        "}\n",
        "\n",
        "df = pd.DataFrame(data)\n",
        "\n",
        "print(df)"
      ],
      "metadata": {
        "colab": {
          "base_uri": "https://localhost:8080/"
        },
        "id": "ohsQ5tGHTi6P",
        "outputId": "9b732474-e918-4b25-d180-0f7358e0e7af"
      },
      "execution_count": 22,
      "outputs": [
        {
          "output_type": "stream",
          "name": "stdout",
          "text": [
            "   Duration  Pulse  Maxpulse  Calories\n",
            "0        60    110       130       409\n",
            "1        60    117       145       479\n",
            "2        60    103       135       340\n",
            "3        45    109       175       282\n",
            "4        45    117       148       406\n",
            "5        60    102       127       300\n"
          ]
        }
      ]
    },
    {
      "cell_type": "markdown",
      "source": [
        "## Pandas - Analyzing DataFrames"
      ],
      "metadata": {
        "id": "8ZFYUDdwT4bB"
      }
    },
    {
      "cell_type": "markdown",
      "source": [
        "**Viewing the Data**\n",
        "\n",
        "One of the most used method for getting a quick overview of the DataFrame, is the **head()** method.\n",
        "\n",
        "The **head()** method returns the headers and a specified number of rows, starting from the top."
      ],
      "metadata": {
        "id": "SrhFsaQwT6JU"
      }
    },
    {
      "cell_type": "code",
      "source": [
        "df = pd.read_csv('/content/sample_data/california_housing_train.csv')\n",
        "\n",
        "print(df.head(10))"
      ],
      "metadata": {
        "colab": {
          "base_uri": "https://localhost:8080/"
        },
        "id": "SDpMCWamVOCu",
        "outputId": "922282d5-ac32-49a7-abb6-b6a6dc59ce57"
      },
      "execution_count": 23,
      "outputs": [
        {
          "output_type": "stream",
          "name": "stdout",
          "text": [
            "   longitude  latitude  housing_median_age  total_rooms  total_bedrooms  \\\n",
            "0    -114.31     34.19                15.0       5612.0          1283.0   \n",
            "1    -114.47     34.40                19.0       7650.0          1901.0   \n",
            "2    -114.56     33.69                17.0        720.0           174.0   \n",
            "3    -114.57     33.64                14.0       1501.0           337.0   \n",
            "4    -114.57     33.57                20.0       1454.0           326.0   \n",
            "5    -114.58     33.63                29.0       1387.0           236.0   \n",
            "6    -114.58     33.61                25.0       2907.0           680.0   \n",
            "7    -114.59     34.83                41.0        812.0           168.0   \n",
            "8    -114.59     33.61                34.0       4789.0          1175.0   \n",
            "9    -114.60     34.83                46.0       1497.0           309.0   \n",
            "\n",
            "   population  households  median_income  median_house_value  \n",
            "0      1015.0       472.0         1.4936             66900.0  \n",
            "1      1129.0       463.0         1.8200             80100.0  \n",
            "2       333.0       117.0         1.6509             85700.0  \n",
            "3       515.0       226.0         3.1917             73400.0  \n",
            "4       624.0       262.0         1.9250             65500.0  \n",
            "5       671.0       239.0         3.3438             74000.0  \n",
            "6      1841.0       633.0         2.6768             82400.0  \n",
            "7       375.0       158.0         1.7083             48500.0  \n",
            "8      3134.0      1056.0         2.1782             58400.0  \n",
            "9       787.0       271.0         2.1908             48100.0  \n"
          ]
        }
      ]
    },
    {
      "cell_type": "code",
      "source": [
        "print(df.head())\n",
        "# Note: if the number of rows is not specified, the head() method will return the top 5 rows."
      ],
      "metadata": {
        "colab": {
          "base_uri": "https://localhost:8080/"
        },
        "id": "1IQUXRRhVVuD",
        "outputId": "837e4dc1-809d-4a86-c6d4-02bd06ca480a"
      },
      "execution_count": 24,
      "outputs": [
        {
          "output_type": "stream",
          "name": "stdout",
          "text": [
            "   longitude  latitude  housing_median_age  total_rooms  total_bedrooms  \\\n",
            "0    -114.31     34.19                15.0       5612.0          1283.0   \n",
            "1    -114.47     34.40                19.0       7650.0          1901.0   \n",
            "2    -114.56     33.69                17.0        720.0           174.0   \n",
            "3    -114.57     33.64                14.0       1501.0           337.0   \n",
            "4    -114.57     33.57                20.0       1454.0           326.0   \n",
            "\n",
            "   population  households  median_income  median_house_value  \n",
            "0      1015.0       472.0         1.4936             66900.0  \n",
            "1      1129.0       463.0         1.8200             80100.0  \n",
            "2       333.0       117.0         1.6509             85700.0  \n",
            "3       515.0       226.0         3.1917             73400.0  \n",
            "4       624.0       262.0         1.9250             65500.0  \n"
          ]
        }
      ]
    },
    {
      "cell_type": "markdown",
      "source": [
        "There is also a **tail()** method for viewing the last rows of the DataFrame.\n",
        "\n",
        "The **tail()** method returns the headers and a specified number of rows, starting from the bottom."
      ],
      "metadata": {
        "id": "Z88wRwdaVfA8"
      }
    },
    {
      "cell_type": "code",
      "source": [
        "print(df.tail())"
      ],
      "metadata": {
        "colab": {
          "base_uri": "https://localhost:8080/"
        },
        "id": "qlVsGXJaVld1",
        "outputId": "8b0b0ce4-5c0c-4cd4-8d34-ccedab6f7b29"
      },
      "execution_count": 25,
      "outputs": [
        {
          "output_type": "stream",
          "name": "stdout",
          "text": [
            "       longitude  latitude  housing_median_age  total_rooms  total_bedrooms  \\\n",
            "16995    -124.26     40.58                52.0       2217.0           394.0   \n",
            "16996    -124.27     40.69                36.0       2349.0           528.0   \n",
            "16997    -124.30     41.84                17.0       2677.0           531.0   \n",
            "16998    -124.30     41.80                19.0       2672.0           552.0   \n",
            "16999    -124.35     40.54                52.0       1820.0           300.0   \n",
            "\n",
            "       population  households  median_income  median_house_value  \n",
            "16995       907.0       369.0         2.3571            111400.0  \n",
            "16996      1194.0       465.0         2.5179             79000.0  \n",
            "16997      1244.0       456.0         3.0313            103600.0  \n",
            "16998      1298.0       478.0         1.9797             85800.0  \n",
            "16999       806.0       270.0         3.0147             94600.0  \n"
          ]
        }
      ]
    },
    {
      "cell_type": "markdown",
      "source": [
        "# Pandas - Cleaning Data"
      ],
      "metadata": {
        "id": "e1Ht2ln8WXJG"
      }
    },
    {
      "cell_type": "markdown",
      "source": [
        "\n",
        "Data cleaning means fixing bad data in your data set.\n",
        "\n",
        "Bad data could be:\n",
        "\n",
        "*   Empty cells\n",
        "*   Data in wrong format\n",
        "*   Wrong data\n",
        "*   Duplicates"
      ],
      "metadata": {
        "id": "-r-9gPsDWD4K"
      }
    },
    {
      "cell_type": "markdown",
      "source": [
        "## Pandas - Cleaning Empty Cells"
      ],
      "metadata": {
        "id": "tnpcbj4TXGR5"
      }
    },
    {
      "cell_type": "markdown",
      "source": [
        "**Empty Cells**\n",
        "\n",
        "Empty cells can potentially give you a wrong result when you analyze data.\n",
        "\n",
        "**Remove Rows**\n",
        "\n",
        "One way to deal with empty cells is to remove rows that contain empty cells.\n",
        "\n",
        "This is usually OK, since data sets can be very big, and removing a few rows will not have a big impact on the result."
      ],
      "metadata": {
        "id": "VYXLYsPrXMEG"
      }
    },
    {
      "cell_type": "code",
      "source": [
        "new_df = df.dropna()\n",
        "# Note: By default, the dropna() method returns a new DataFrame, and will not change the original.\n",
        "print(new_df.to_string())"
      ],
      "metadata": {
        "id": "wPYARvEXXWN-"
      },
      "execution_count": null,
      "outputs": []
    },
    {
      "cell_type": "markdown",
      "source": [
        "If you want to change the original DataFrame, use the **inplace = True** argument:"
      ],
      "metadata": {
        "id": "MgBk_H7rXqRk"
      }
    },
    {
      "cell_type": "code",
      "source": [
        "df.dropna(inplace = True)\n",
        "# Note: Now, the dropna(inplace = True) will NOT return a new DataFrame,\n",
        "# but it will remove all rows containing NULL values from the original DataFrame.\n",
        "print(df.to_string())"
      ],
      "metadata": {
        "id": "jzW8_KjvXu1t"
      },
      "execution_count": null,
      "outputs": []
    },
    {
      "cell_type": "markdown",
      "source": [
        "**Replace Empty Values**\n",
        "\n",
        "Another way of dealing with empty cells is to insert a new value instead.\n",
        "\n",
        "This way you do not have to delete entire rows just because of some empty cells.\n",
        "\n",
        "The **fillna()** method allows us to replace empty cells with a value:"
      ],
      "metadata": {
        "id": "mf4UBI0jYElV"
      }
    },
    {
      "cell_type": "code",
      "source": [
        "df.fillna(130, inplace = True)"
      ],
      "metadata": {
        "id": "td3lUDJ7YORN"
      },
      "execution_count": 28,
      "outputs": []
    },
    {
      "cell_type": "markdown",
      "source": [
        "The example above replaces all empty cells in the whole Data Frame.\n",
        "\n",
        "To only replace empty values for one column, specify the column name for the DataFrame:"
      ],
      "metadata": {
        "id": "b6fH6wwMYXSA"
      }
    },
    {
      "cell_type": "code",
      "source": [
        "df[\"households\"].fillna(300, inplace = True)"
      ],
      "metadata": {
        "id": "6sQd5ayQYYXM"
      },
      "execution_count": 29,
      "outputs": []
    },
    {
      "cell_type": "markdown",
      "source": [
        "**Replace Using Mean, Median, or Mode**\n",
        "\n",
        "A common way to replace empty cells, is to calculate the mean, median or mode value of the column.\n",
        "\n",
        "Pandas uses the **mean() median() and mode()** methods to calculate the respective values for a specified column\n",
        "\n",
        "Mean = the average value (the sum of all values divided by number of values).\n",
        "\n",
        "Median = the value in the middle, after you have sorted all values ascending.\n",
        "\n",
        "Mode = the value that appears most frequently."
      ],
      "metadata": {
        "id": "BA459hYCYold"
      }
    },
    {
      "cell_type": "code",
      "source": [
        "x = df[\"households\"].mean()\n",
        "\n",
        "df[\"households\"].fillna(x, inplace = True)"
      ],
      "metadata": {
        "id": "bNyNwRWmYtdh"
      },
      "execution_count": 30,
      "outputs": []
    },
    {
      "cell_type": "markdown",
      "source": [
        "DataFrame.mode(axis=0, numeric_only=False, dropna=True)\n",
        "\n",
        "*   axis {0 or ‘index’, 1 or ‘columns’}, default 0\n",
        "\n",
        "The axis to iterate over while searching for the mode:\n",
        "\n",
        "0 or ‘index’ : get mode of each column\n",
        "\n",
        "1 or ‘columns’ : get mode of each row.\n",
        "\n",
        "*   numeric_only\n",
        "bool, default False\n",
        "\n",
        "If True, only apply to numeric columns.\n",
        "\n",
        "*   dropna\n",
        "bool, default True\n",
        "\n",
        "Don’t consider counts of NaN/NaT."
      ],
      "metadata": {
        "id": "vNnxr6cyZw94"
      }
    },
    {
      "cell_type": "code",
      "source": [
        "x = df[\"households\"].mode()\n",
        "\n",
        "print(x[0])"
      ],
      "metadata": {
        "colab": {
          "base_uri": "https://localhost:8080/"
        },
        "id": "QV02qMKsZFt6",
        "outputId": "fe7e8467-bd08-44cc-bd1d-74cedb30bed3"
      },
      "execution_count": 40,
      "outputs": [
        {
          "output_type": "stream",
          "name": "stdout",
          "text": [
            "306.0\n"
          ]
        }
      ]
    },
    {
      "cell_type": "markdown",
      "source": [
        "## Pandas - Cleaning Data of Wrong Format"
      ],
      "metadata": {
        "id": "znIbc1sIf7ch"
      }
    },
    {
      "cell_type": "markdown",
      "source": [
        "**Data of Wrong Format**\n",
        "\n",
        "Cells with data of wrong format can make it difficult, or even impossible, to analyze data.\n",
        "\n",
        "To fix it, you have two options:\n",
        "*  remove the rows\n",
        "*  convert all cells in the columns into the same format.\n",
        "\n",
        "**Convert Into a Correct Format**\n",
        "\n",
        "Let's try to convert all cells in the 'Date' column into dates.\n",
        "\n",
        "Pandas has a **to_datetime()** method for this"
      ],
      "metadata": {
        "id": "hcw_RgTWf_Fh"
      }
    },
    {
      "cell_type": "code",
      "source": [
        "#df['Date'] = pd.to_datetime(df['Date'])"
      ],
      "metadata": {
        "id": "cXRfag1MgGDv"
      },
      "execution_count": null,
      "outputs": []
    },
    {
      "cell_type": "markdown",
      "source": [
        "**Removing Rows**\n",
        "\n",
        "If the result from the converting in the code above gave us a NaT value, which can be handled as a NULL value, we can remove the row by using the **dropna()** method."
      ],
      "metadata": {
        "id": "XhPmL1whgmkv"
      }
    },
    {
      "cell_type": "code",
      "source": [
        "#df.dropna(subset=['Date'], inplace = True)"
      ],
      "metadata": {
        "id": "Z54gG1Fkg02I"
      },
      "execution_count": null,
      "outputs": []
    },
    {
      "cell_type": "markdown",
      "source": [
        "## Pandas - Fixing Wrong Data"
      ],
      "metadata": {
        "id": "kmnZ7_V4zEeV"
      }
    },
    {
      "cell_type": "markdown",
      "source": [
        "**Wrong Data**\n",
        "\n",
        "\"Wrong data\" does not have to be \"empty cells\" or \"wrong format\", it can just be wrong, like if someone registered \"199\" instead of \"1.99\".\n",
        "\n",
        "Sometimes you can spot wrong data by looking at the data set, because you have an expectation of what it should be.\n",
        "\n",
        "**Replacing Values**\n",
        "One way to fix wrong values is to replace them with something else.\n"
      ],
      "metadata": {
        "id": "l6F4EN-4zJ2m"
      }
    },
    {
      "cell_type": "markdown",
      "source": [
        "*Example*\n",
        "\n",
        "Set \"Duration\" = 45 in row 2:"
      ],
      "metadata": {
        "id": "h4X1v7Ig0RzS"
      }
    },
    {
      "cell_type": "code",
      "source": [
        "df.loc[2, 'Duration'] = 45"
      ],
      "metadata": {
        "id": "pzkqV5CV0U1e"
      },
      "execution_count": 59,
      "outputs": []
    },
    {
      "cell_type": "markdown",
      "source": [
        "For small data sets you might be able to replace the wrong data one by one, but not for big data sets.\n",
        "\n",
        "To replace wrong data for larger data sets you can create some rules, e.g. set some boundaries for legal values, and replace any values that are outside of the boundaries."
      ],
      "metadata": {
        "id": "K79F9Xr_0ha7"
      }
    },
    {
      "cell_type": "markdown",
      "source": [
        "*Example*\n",
        "\n",
        "Loop through all values in the \"Duration\" column.\n",
        "\n",
        "If the value is higher than 120, set it to 120:"
      ],
      "metadata": {
        "id": "YuBSNbTe2SXi"
      }
    },
    {
      "cell_type": "code",
      "source": [
        "for x in df.index:\n",
        "  if df.loc[x, \"Duration\"] > 120:\n",
        "    df.loc[x, \"Duration\"] = 120"
      ],
      "metadata": {
        "id": "rMOF4Roc0jK5"
      },
      "execution_count": 60,
      "outputs": []
    },
    {
      "cell_type": "markdown",
      "source": [
        "**Removing Rows**\n",
        "\n",
        "Another way of handling wrong data is to remove the rows that contains wrong data.\n",
        "\n",
        "This way you do not have to find out what to replace them with, and there is a good chance you do not need them to do your analyses."
      ],
      "metadata": {
        "id": "gorK1d0NEyQ1"
      }
    },
    {
      "cell_type": "markdown",
      "source": [
        "*Example*\n",
        "\n",
        "Delete rows where \"Duration\" is higher than 120:"
      ],
      "metadata": {
        "id": "hxNyNTDQE9S3"
      }
    },
    {
      "cell_type": "code",
      "source": [
        "for x in df.index:\n",
        "  if df.loc[x, \"Duration\"] > 120:\n",
        "    df.drop(x, inplace = True)\n"
      ],
      "metadata": {
        "id": "DUEF0iZUE6R9"
      },
      "execution_count": 61,
      "outputs": []
    },
    {
      "cell_type": "markdown",
      "source": [
        "## Pandas - Removing Duplicates"
      ],
      "metadata": {
        "id": "SZR1KFuBFHGm"
      }
    },
    {
      "cell_type": "markdown",
      "source": [
        "**Discovering Duplicates**\n",
        "\n",
        "Duplicate rows are rows that have been registered more than one time.\n",
        "\n",
        "To discover duplicates, we can use the **duplicated()** method.\n",
        "\n",
        "The **duplicated()** method returns a Boolean values for each row:"
      ],
      "metadata": {
        "id": "DB7l8pxBFJeu"
      }
    },
    {
      "cell_type": "markdown",
      "source": [
        "*Example*\n",
        "\n",
        "Returns **True** for every row that is a duplicate, otherwise **False**:"
      ],
      "metadata": {
        "id": "LRcd8WecFZfj"
      }
    },
    {
      "cell_type": "code",
      "source": [
        "print(df.duplicated())"
      ],
      "metadata": {
        "colab": {
          "base_uri": "https://localhost:8080/"
        },
        "id": "8LwxkE4JFWm4",
        "outputId": "ab175865-9110-416b-bf95-14a25ea3cc3c"
      },
      "execution_count": 62,
      "outputs": [
        {
          "output_type": "stream",
          "name": "stdout",
          "text": [
            "0        False\n",
            "1        False\n",
            "2        False\n",
            "3        False\n",
            "4        False\n",
            "         ...  \n",
            "16995    False\n",
            "16996    False\n",
            "16997    False\n",
            "16998    False\n",
            "16999    False\n",
            "Length: 17000, dtype: bool\n"
          ]
        }
      ]
    },
    {
      "cell_type": "markdown",
      "source": [
        "**Removing Duplicates**\n",
        "\n",
        "To remove duplicates, use the **drop_duplicates()** method."
      ],
      "metadata": {
        "id": "Oa90xgxFFQ-E"
      }
    },
    {
      "cell_type": "code",
      "source": [
        "df.drop_duplicates(inplace = True)"
      ],
      "metadata": {
        "id": "m4WL3ppOFle6"
      },
      "execution_count": 63,
      "outputs": []
    },
    {
      "cell_type": "markdown",
      "source": [
        "# Pandas - Data Correlations"
      ],
      "metadata": {
        "id": "7L9zfhp6Futh"
      }
    },
    {
      "cell_type": "markdown",
      "source": [
        "**Finding Relationships**\n",
        "\n",
        "A great aspect of the Pandas module is the **corr()** method.\n",
        "\n",
        "The **corr()** method calculates the relationship between each column in your data set.\n"
      ],
      "metadata": {
        "id": "STtg6Oe8FxQ8"
      }
    },
    {
      "cell_type": "markdown",
      "source": [
        "*Example*\n",
        "\n",
        "Show the relationship between the columns:"
      ],
      "metadata": {
        "id": "JQzhxE8kF892"
      }
    },
    {
      "cell_type": "code",
      "source": [
        "df.corr() #Note: The corr() method ignores \"not numeric\" columns."
      ],
      "metadata": {
        "colab": {
          "base_uri": "https://localhost:8080/",
          "height": 383
        },
        "id": "XuXxcSOGF-7O",
        "outputId": "6baa475c-5806-48ab-f133-e19efefe6e79"
      },
      "execution_count": 64,
      "outputs": [
        {
          "output_type": "execute_result",
          "data": {
            "text/plain": [
              "                    longitude  latitude  housing_median_age  total_rooms  \\\n",
              "longitude            1.000000 -0.925208           -0.114250     0.047010   \n",
              "latitude            -0.925208  1.000000            0.016454    -0.038773   \n",
              "housing_median_age  -0.114250  0.016454            1.000000    -0.360984   \n",
              "total_rooms          0.047010 -0.038773           -0.360984     1.000000   \n",
              "total_bedrooms       0.071802 -0.069373           -0.320434     0.928403   \n",
              "population           0.101674 -0.111261           -0.295890     0.860170   \n",
              "households           0.059628 -0.074902           -0.302754     0.919018   \n",
              "median_income       -0.015485 -0.080303           -0.115932     0.195383   \n",
              "median_house_value  -0.044982 -0.144917            0.106758     0.130991   \n",
              "Duration                  NaN       NaN                 NaN          NaN   \n",
              "\n",
              "                    total_bedrooms  population  households  median_income  \\\n",
              "longitude                 0.071802    0.101674    0.059628      -0.015485   \n",
              "latitude                 -0.069373   -0.111261   -0.074902      -0.080303   \n",
              "housing_median_age       -0.320434   -0.295890   -0.302754      -0.115932   \n",
              "total_rooms               0.928403    0.860170    0.919018       0.195383   \n",
              "total_bedrooms            1.000000    0.881169    0.980920      -0.013495   \n",
              "population                0.881169    1.000000    0.909247      -0.000638   \n",
              "households                0.980920    0.909247    1.000000       0.007644   \n",
              "median_income            -0.013495   -0.000638    0.007644       1.000000   \n",
              "median_house_value        0.045783   -0.027850    0.061031       0.691871   \n",
              "Duration                       NaN         NaN         NaN            NaN   \n",
              "\n",
              "                    median_house_value  Duration  \n",
              "longitude                    -0.044982       NaN  \n",
              "latitude                     -0.144917       NaN  \n",
              "housing_median_age            0.106758       NaN  \n",
              "total_rooms                   0.130991       NaN  \n",
              "total_bedrooms                0.045783       NaN  \n",
              "population                   -0.027850       NaN  \n",
              "households                    0.061031       NaN  \n",
              "median_income                 0.691871       NaN  \n",
              "median_house_value            1.000000       NaN  \n",
              "Duration                           NaN       NaN  "
            ],
            "text/html": [
              "\n",
              "  <div id=\"df-32107a0f-99e8-422d-8821-a41e5740dc42\" class=\"colab-df-container\">\n",
              "    <div>\n",
              "<style scoped>\n",
              "    .dataframe tbody tr th:only-of-type {\n",
              "        vertical-align: middle;\n",
              "    }\n",
              "\n",
              "    .dataframe tbody tr th {\n",
              "        vertical-align: top;\n",
              "    }\n",
              "\n",
              "    .dataframe thead th {\n",
              "        text-align: right;\n",
              "    }\n",
              "</style>\n",
              "<table border=\"1\" class=\"dataframe\">\n",
              "  <thead>\n",
              "    <tr style=\"text-align: right;\">\n",
              "      <th></th>\n",
              "      <th>longitude</th>\n",
              "      <th>latitude</th>\n",
              "      <th>housing_median_age</th>\n",
              "      <th>total_rooms</th>\n",
              "      <th>total_bedrooms</th>\n",
              "      <th>population</th>\n",
              "      <th>households</th>\n",
              "      <th>median_income</th>\n",
              "      <th>median_house_value</th>\n",
              "      <th>Duration</th>\n",
              "    </tr>\n",
              "  </thead>\n",
              "  <tbody>\n",
              "    <tr>\n",
              "      <th>longitude</th>\n",
              "      <td>1.000000</td>\n",
              "      <td>-0.925208</td>\n",
              "      <td>-0.114250</td>\n",
              "      <td>0.047010</td>\n",
              "      <td>0.071802</td>\n",
              "      <td>0.101674</td>\n",
              "      <td>0.059628</td>\n",
              "      <td>-0.015485</td>\n",
              "      <td>-0.044982</td>\n",
              "      <td>NaN</td>\n",
              "    </tr>\n",
              "    <tr>\n",
              "      <th>latitude</th>\n",
              "      <td>-0.925208</td>\n",
              "      <td>1.000000</td>\n",
              "      <td>0.016454</td>\n",
              "      <td>-0.038773</td>\n",
              "      <td>-0.069373</td>\n",
              "      <td>-0.111261</td>\n",
              "      <td>-0.074902</td>\n",
              "      <td>-0.080303</td>\n",
              "      <td>-0.144917</td>\n",
              "      <td>NaN</td>\n",
              "    </tr>\n",
              "    <tr>\n",
              "      <th>housing_median_age</th>\n",
              "      <td>-0.114250</td>\n",
              "      <td>0.016454</td>\n",
              "      <td>1.000000</td>\n",
              "      <td>-0.360984</td>\n",
              "      <td>-0.320434</td>\n",
              "      <td>-0.295890</td>\n",
              "      <td>-0.302754</td>\n",
              "      <td>-0.115932</td>\n",
              "      <td>0.106758</td>\n",
              "      <td>NaN</td>\n",
              "    </tr>\n",
              "    <tr>\n",
              "      <th>total_rooms</th>\n",
              "      <td>0.047010</td>\n",
              "      <td>-0.038773</td>\n",
              "      <td>-0.360984</td>\n",
              "      <td>1.000000</td>\n",
              "      <td>0.928403</td>\n",
              "      <td>0.860170</td>\n",
              "      <td>0.919018</td>\n",
              "      <td>0.195383</td>\n",
              "      <td>0.130991</td>\n",
              "      <td>NaN</td>\n",
              "    </tr>\n",
              "    <tr>\n",
              "      <th>total_bedrooms</th>\n",
              "      <td>0.071802</td>\n",
              "      <td>-0.069373</td>\n",
              "      <td>-0.320434</td>\n",
              "      <td>0.928403</td>\n",
              "      <td>1.000000</td>\n",
              "      <td>0.881169</td>\n",
              "      <td>0.980920</td>\n",
              "      <td>-0.013495</td>\n",
              "      <td>0.045783</td>\n",
              "      <td>NaN</td>\n",
              "    </tr>\n",
              "    <tr>\n",
              "      <th>population</th>\n",
              "      <td>0.101674</td>\n",
              "      <td>-0.111261</td>\n",
              "      <td>-0.295890</td>\n",
              "      <td>0.860170</td>\n",
              "      <td>0.881169</td>\n",
              "      <td>1.000000</td>\n",
              "      <td>0.909247</td>\n",
              "      <td>-0.000638</td>\n",
              "      <td>-0.027850</td>\n",
              "      <td>NaN</td>\n",
              "    </tr>\n",
              "    <tr>\n",
              "      <th>households</th>\n",
              "      <td>0.059628</td>\n",
              "      <td>-0.074902</td>\n",
              "      <td>-0.302754</td>\n",
              "      <td>0.919018</td>\n",
              "      <td>0.980920</td>\n",
              "      <td>0.909247</td>\n",
              "      <td>1.000000</td>\n",
              "      <td>0.007644</td>\n",
              "      <td>0.061031</td>\n",
              "      <td>NaN</td>\n",
              "    </tr>\n",
              "    <tr>\n",
              "      <th>median_income</th>\n",
              "      <td>-0.015485</td>\n",
              "      <td>-0.080303</td>\n",
              "      <td>-0.115932</td>\n",
              "      <td>0.195383</td>\n",
              "      <td>-0.013495</td>\n",
              "      <td>-0.000638</td>\n",
              "      <td>0.007644</td>\n",
              "      <td>1.000000</td>\n",
              "      <td>0.691871</td>\n",
              "      <td>NaN</td>\n",
              "    </tr>\n",
              "    <tr>\n",
              "      <th>median_house_value</th>\n",
              "      <td>-0.044982</td>\n",
              "      <td>-0.144917</td>\n",
              "      <td>0.106758</td>\n",
              "      <td>0.130991</td>\n",
              "      <td>0.045783</td>\n",
              "      <td>-0.027850</td>\n",
              "      <td>0.061031</td>\n",
              "      <td>0.691871</td>\n",
              "      <td>1.000000</td>\n",
              "      <td>NaN</td>\n",
              "    </tr>\n",
              "    <tr>\n",
              "      <th>Duration</th>\n",
              "      <td>NaN</td>\n",
              "      <td>NaN</td>\n",
              "      <td>NaN</td>\n",
              "      <td>NaN</td>\n",
              "      <td>NaN</td>\n",
              "      <td>NaN</td>\n",
              "      <td>NaN</td>\n",
              "      <td>NaN</td>\n",
              "      <td>NaN</td>\n",
              "      <td>NaN</td>\n",
              "    </tr>\n",
              "  </tbody>\n",
              "</table>\n",
              "</div>\n",
              "    <div class=\"colab-df-buttons\">\n",
              "\n",
              "  <div class=\"colab-df-container\">\n",
              "    <button class=\"colab-df-convert\" onclick=\"convertToInteractive('df-32107a0f-99e8-422d-8821-a41e5740dc42')\"\n",
              "            title=\"Convert this dataframe to an interactive table.\"\n",
              "            style=\"display:none;\">\n",
              "\n",
              "  <svg xmlns=\"http://www.w3.org/2000/svg\" height=\"24px\" viewBox=\"0 -960 960 960\">\n",
              "    <path d=\"M120-120v-720h720v720H120Zm60-500h600v-160H180v160Zm220 220h160v-160H400v160Zm0 220h160v-160H400v160ZM180-400h160v-160H180v160Zm440 0h160v-160H620v160ZM180-180h160v-160H180v160Zm440 0h160v-160H620v160Z\"/>\n",
              "  </svg>\n",
              "    </button>\n",
              "\n",
              "  <style>\n",
              "    .colab-df-container {\n",
              "      display:flex;\n",
              "      gap: 12px;\n",
              "    }\n",
              "\n",
              "    .colab-df-convert {\n",
              "      background-color: #E8F0FE;\n",
              "      border: none;\n",
              "      border-radius: 50%;\n",
              "      cursor: pointer;\n",
              "      display: none;\n",
              "      fill: #1967D2;\n",
              "      height: 32px;\n",
              "      padding: 0 0 0 0;\n",
              "      width: 32px;\n",
              "    }\n",
              "\n",
              "    .colab-df-convert:hover {\n",
              "      background-color: #E2EBFA;\n",
              "      box-shadow: 0px 1px 2px rgba(60, 64, 67, 0.3), 0px 1px 3px 1px rgba(60, 64, 67, 0.15);\n",
              "      fill: #174EA6;\n",
              "    }\n",
              "\n",
              "    .colab-df-buttons div {\n",
              "      margin-bottom: 4px;\n",
              "    }\n",
              "\n",
              "    [theme=dark] .colab-df-convert {\n",
              "      background-color: #3B4455;\n",
              "      fill: #D2E3FC;\n",
              "    }\n",
              "\n",
              "    [theme=dark] .colab-df-convert:hover {\n",
              "      background-color: #434B5C;\n",
              "      box-shadow: 0px 1px 3px 1px rgba(0, 0, 0, 0.15);\n",
              "      filter: drop-shadow(0px 1px 2px rgba(0, 0, 0, 0.3));\n",
              "      fill: #FFFFFF;\n",
              "    }\n",
              "  </style>\n",
              "\n",
              "    <script>\n",
              "      const buttonEl =\n",
              "        document.querySelector('#df-32107a0f-99e8-422d-8821-a41e5740dc42 button.colab-df-convert');\n",
              "      buttonEl.style.display =\n",
              "        google.colab.kernel.accessAllowed ? 'block' : 'none';\n",
              "\n",
              "      async function convertToInteractive(key) {\n",
              "        const element = document.querySelector('#df-32107a0f-99e8-422d-8821-a41e5740dc42');\n",
              "        const dataTable =\n",
              "          await google.colab.kernel.invokeFunction('convertToInteractive',\n",
              "                                                    [key], {});\n",
              "        if (!dataTable) return;\n",
              "\n",
              "        const docLinkHtml = 'Like what you see? Visit the ' +\n",
              "          '<a target=\"_blank\" href=https://colab.research.google.com/notebooks/data_table.ipynb>data table notebook</a>'\n",
              "          + ' to learn more about interactive tables.';\n",
              "        element.innerHTML = '';\n",
              "        dataTable['output_type'] = 'display_data';\n",
              "        await google.colab.output.renderOutput(dataTable, element);\n",
              "        const docLink = document.createElement('div');\n",
              "        docLink.innerHTML = docLinkHtml;\n",
              "        element.appendChild(docLink);\n",
              "      }\n",
              "    </script>\n",
              "  </div>\n",
              "\n",
              "\n",
              "<div id=\"df-90e954ff-7450-48f5-b3a4-5e49be846891\">\n",
              "  <button class=\"colab-df-quickchart\" onclick=\"quickchart('df-90e954ff-7450-48f5-b3a4-5e49be846891')\"\n",
              "            title=\"Suggest charts\"\n",
              "            style=\"display:none;\">\n",
              "\n",
              "<svg xmlns=\"http://www.w3.org/2000/svg\" height=\"24px\"viewBox=\"0 0 24 24\"\n",
              "     width=\"24px\">\n",
              "    <g>\n",
              "        <path d=\"M19 3H5c-1.1 0-2 .9-2 2v14c0 1.1.9 2 2 2h14c1.1 0 2-.9 2-2V5c0-1.1-.9-2-2-2zM9 17H7v-7h2v7zm4 0h-2V7h2v10zm4 0h-2v-4h2v4z\"/>\n",
              "    </g>\n",
              "</svg>\n",
              "  </button>\n",
              "\n",
              "<style>\n",
              "  .colab-df-quickchart {\n",
              "      --bg-color: #E8F0FE;\n",
              "      --fill-color: #1967D2;\n",
              "      --hover-bg-color: #E2EBFA;\n",
              "      --hover-fill-color: #174EA6;\n",
              "      --disabled-fill-color: #AAA;\n",
              "      --disabled-bg-color: #DDD;\n",
              "  }\n",
              "\n",
              "  [theme=dark] .colab-df-quickchart {\n",
              "      --bg-color: #3B4455;\n",
              "      --fill-color: #D2E3FC;\n",
              "      --hover-bg-color: #434B5C;\n",
              "      --hover-fill-color: #FFFFFF;\n",
              "      --disabled-bg-color: #3B4455;\n",
              "      --disabled-fill-color: #666;\n",
              "  }\n",
              "\n",
              "  .colab-df-quickchart {\n",
              "    background-color: var(--bg-color);\n",
              "    border: none;\n",
              "    border-radius: 50%;\n",
              "    cursor: pointer;\n",
              "    display: none;\n",
              "    fill: var(--fill-color);\n",
              "    height: 32px;\n",
              "    padding: 0;\n",
              "    width: 32px;\n",
              "  }\n",
              "\n",
              "  .colab-df-quickchart:hover {\n",
              "    background-color: var(--hover-bg-color);\n",
              "    box-shadow: 0 1px 2px rgba(60, 64, 67, 0.3), 0 1px 3px 1px rgba(60, 64, 67, 0.15);\n",
              "    fill: var(--button-hover-fill-color);\n",
              "  }\n",
              "\n",
              "  .colab-df-quickchart-complete:disabled,\n",
              "  .colab-df-quickchart-complete:disabled:hover {\n",
              "    background-color: var(--disabled-bg-color);\n",
              "    fill: var(--disabled-fill-color);\n",
              "    box-shadow: none;\n",
              "  }\n",
              "\n",
              "  .colab-df-spinner {\n",
              "    border: 2px solid var(--fill-color);\n",
              "    border-color: transparent;\n",
              "    border-bottom-color: var(--fill-color);\n",
              "    animation:\n",
              "      spin 1s steps(1) infinite;\n",
              "  }\n",
              "\n",
              "  @keyframes spin {\n",
              "    0% {\n",
              "      border-color: transparent;\n",
              "      border-bottom-color: var(--fill-color);\n",
              "      border-left-color: var(--fill-color);\n",
              "    }\n",
              "    20% {\n",
              "      border-color: transparent;\n",
              "      border-left-color: var(--fill-color);\n",
              "      border-top-color: var(--fill-color);\n",
              "    }\n",
              "    30% {\n",
              "      border-color: transparent;\n",
              "      border-left-color: var(--fill-color);\n",
              "      border-top-color: var(--fill-color);\n",
              "      border-right-color: var(--fill-color);\n",
              "    }\n",
              "    40% {\n",
              "      border-color: transparent;\n",
              "      border-right-color: var(--fill-color);\n",
              "      border-top-color: var(--fill-color);\n",
              "    }\n",
              "    60% {\n",
              "      border-color: transparent;\n",
              "      border-right-color: var(--fill-color);\n",
              "    }\n",
              "    80% {\n",
              "      border-color: transparent;\n",
              "      border-right-color: var(--fill-color);\n",
              "      border-bottom-color: var(--fill-color);\n",
              "    }\n",
              "    90% {\n",
              "      border-color: transparent;\n",
              "      border-bottom-color: var(--fill-color);\n",
              "    }\n",
              "  }\n",
              "</style>\n",
              "\n",
              "  <script>\n",
              "    async function quickchart(key) {\n",
              "      const quickchartButtonEl =\n",
              "        document.querySelector('#' + key + ' button');\n",
              "      quickchartButtonEl.disabled = true;  // To prevent multiple clicks.\n",
              "      quickchartButtonEl.classList.add('colab-df-spinner');\n",
              "      try {\n",
              "        const charts = await google.colab.kernel.invokeFunction(\n",
              "            'suggestCharts', [key], {});\n",
              "      } catch (error) {\n",
              "        console.error('Error during call to suggestCharts:', error);\n",
              "      }\n",
              "      quickchartButtonEl.classList.remove('colab-df-spinner');\n",
              "      quickchartButtonEl.classList.add('colab-df-quickchart-complete');\n",
              "    }\n",
              "    (() => {\n",
              "      let quickchartButtonEl =\n",
              "        document.querySelector('#df-90e954ff-7450-48f5-b3a4-5e49be846891 button');\n",
              "      quickchartButtonEl.style.display =\n",
              "        google.colab.kernel.accessAllowed ? 'block' : 'none';\n",
              "    })();\n",
              "  </script>\n",
              "</div>\n",
              "    </div>\n",
              "  </div>\n"
            ],
            "application/vnd.google.colaboratory.intrinsic+json": {
              "type": "dataframe",
              "summary": "{\n  \"name\": \"df\",\n  \"rows\": 10,\n  \"fields\": [\n    {\n      \"column\": \"longitude\",\n      \"properties\": {\n        \"dtype\": \"number\",\n        \"std\": 0.48592407857842723,\n        \"min\": -0.9252082786792101,\n        \"max\": 1.0,\n        \"num_unique_values\": 9,\n        \"samples\": [\n          -0.015484961384791378,\n          -0.9252082786792101,\n          0.1016742645684225\n        ],\n        \"semantic_type\": \"\",\n        \"description\": \"\"\n      }\n    },\n    {\n      \"column\": \"latitude\",\n      \"properties\": {\n        \"dtype\": \"number\",\n        \"std\": 0.48575394362943414,\n        \"min\": -0.9252082786792101,\n        \"max\": 1.0,\n        \"num_unique_values\": 9,\n        \"samples\": [\n          -0.08030301379233419,\n          1.0,\n          -0.11126136149822226\n        ],\n        \"semantic_type\": \"\",\n        \"description\": \"\"\n      }\n    },\n    {\n      \"column\": \"housing_median_age\",\n      \"properties\": {\n        \"dtype\": \"number\",\n        \"std\": 0.42333731507004063,\n        \"min\": -0.36098416572528785,\n        \"max\": 1.0,\n        \"num_unique_values\": 9,\n        \"samples\": [\n          -0.11593162461581347,\n          0.016453903095023946,\n          -0.29588980535867854\n        ],\n        \"semantic_type\": \"\",\n        \"description\": \"\"\n      }\n    },\n    {\n      \"column\": \"total_rooms\",\n      \"properties\": {\n        \"dtype\": \"number\",\n        \"std\": 0.5160023235861619,\n        \"min\": -0.36098416572528785,\n        \"max\": 1.0,\n        \"num_unique_values\": 9,\n        \"samples\": [\n          0.19538280739464683,\n          -0.038772574164864966,\n          0.8601703408101828\n        ],\n        \"semantic_type\": \"\",\n        \"description\": \"\"\n      }\n    },\n    {\n      \"column\": \"total_bedrooms\",\n      \"properties\": {\n        \"dtype\": \"number\",\n        \"std\": 0.5420667844146579,\n        \"min\": -0.3204340826318241,\n        \"max\": 1.0,\n        \"num_unique_values\": 9,\n        \"samples\": [\n          -0.013494682320925528,\n          -0.06937291517634289,\n          0.8811685743741022\n        ],\n        \"semantic_type\": \"\",\n        \"description\": \"\"\n      }\n    },\n    {\n      \"column\": \"population\",\n      \"properties\": {\n        \"dtype\": \"number\",\n        \"std\": 0.5281932127468781,\n        \"min\": -0.29588980535867854,\n        \"max\": 1.0,\n        \"num_unique_values\": 9,\n        \"samples\": [\n          -0.0006376291384769092,\n          -0.11126136149822226,\n          1.0\n        ],\n        \"semantic_type\": \"\",\n        \"description\": \"\"\n      }\n    },\n    {\n      \"column\": \"households\",\n      \"properties\": {\n        \"dtype\": \"number\",\n        \"std\": 0.5396866587005946,\n        \"min\": -0.302754191175035,\n        \"max\": 1.0,\n        \"num_unique_values\": 9,\n        \"samples\": [\n          0.007643716195513887,\n          -0.07490229668637566,\n          0.9092465299364408\n        ],\n        \"semantic_type\": \"\",\n        \"description\": \"\"\n      }\n    },\n    {\n      \"column\": \"median_income\",\n      \"properties\": {\n        \"dtype\": \"number\",\n        \"std\": 0.39174374032949943,\n        \"min\": -0.11593162461581347,\n        \"max\": 1.0,\n        \"num_unique_values\": 9,\n        \"samples\": [\n          1.0,\n          -0.08030301379233419,\n          -0.0006376291384769092\n        ],\n        \"semantic_type\": \"\",\n        \"description\": \"\"\n      }\n    },\n    {\n      \"column\": \"median_house_value\",\n      \"properties\": {\n        \"dtype\": \"number\",\n        \"std\": 0.3823200193190224,\n        \"min\": -0.1449167173376358,\n        \"max\": 1.0,\n        \"num_unique_values\": 9,\n        \"samples\": [\n          0.6918706037806676,\n          -0.1449167173376358,\n          -0.027850061120898377\n        ],\n        \"semantic_type\": \"\",\n        \"description\": \"\"\n      }\n    },\n    {\n      \"column\": \"Duration\",\n      \"properties\": {\n        \"dtype\": \"number\",\n        \"std\": null,\n        \"min\": null,\n        \"max\": null,\n        \"num_unique_values\": 0,\n        \"samples\": [],\n        \"semantic_type\": \"\",\n        \"description\": \"\"\n      }\n    }\n  ]\n}"
            }
          },
          "metadata": {},
          "execution_count": 64
        }
      ]
    },
    {
      "cell_type": "markdown",
      "source": [
        "*Result Explained*\n",
        "\n",
        "The Result of the **corr()** method is a table with a lot of numbers that represents how well the relationship is between two columns.\n",
        "\n",
        "The number varies from -1 to 1.\n",
        "\n",
        "1 means that there is a 1 to 1 relationship (a perfect correlation), and for this data set, each time a value went up in the first column, the other one went up as well.\n",
        "\n",
        "0.9 is also a good relationship, and if you increase one value, the other will probably increase as well.\n",
        "\n",
        "-0.9 would be just as good relationship as 0.9, but if you increase one value, the other will probably go down.\n",
        "\n",
        "0.2 means NOT a good relationship, meaning that if one value goes up does not mean that the other will.\n",
        "\n",
        "**What is a good correlation?** It depends on the use, but it is safe to say you have to have at least 0.6 (or -0.6) to call it a good correlation.\n",
        "\n",
        "**Perfect/Good/Bad Correlation **"
      ],
      "metadata": {
        "id": "VdHLVN30HBLn"
      }
    },
    {
      "cell_type": "markdown",
      "source": [
        "# Pandas - Plotting"
      ],
      "metadata": {
        "id": "1cB1aoAFHy-E"
      }
    },
    {
      "cell_type": "markdown",
      "source": [
        "**Plotting**\n",
        "\n",
        "Pandas uses the **plot()** method to create diagrams.\n",
        "\n",
        "We can use Pyplot, a submodule of the Matplotlib library to visualize the diagram on the screen."
      ],
      "metadata": {
        "id": "1pIhINunH8EI"
      }
    },
    {
      "cell_type": "code",
      "source": [
        "import matplotlib.pyplot as plt\n",
        "\n",
        "df.plot()\n",
        "\n",
        "plt.show()"
      ],
      "metadata": {
        "colab": {
          "base_uri": "https://localhost:8080/",
          "height": 430
        },
        "id": "qfRPmzkdIHzu",
        "outputId": "881b3ef0-cf80-4fb8-f02a-6567ac4bab68"
      },
      "execution_count": 65,
      "outputs": [
        {
          "output_type": "display_data",
          "data": {
            "text/plain": [
              "<Figure size 640x480 with 1 Axes>"
            ],
            "image/png": "[encoded data removed]"
          },
          "metadata": {}
        }
      ]
    },
    {
      "cell_type": "markdown",
      "source": [
        "**Scatter Plot**\n",
        "\n",
        "Specify that you want a scatter plot with the **kind** argument:\n",
        "\n",
        "**kind = 'scatter'**\n",
        "\n",
        "A scatter plot needs an x- and a y-axis.\n"
      ],
      "metadata": {
        "id": "4Y5Ko8zjIQwc"
      }
    },
    {
      "cell_type": "code",
      "source": [
        "df.plot(kind = 'scatter', x = 'total_rooms', y = 'total_bedrooms')\n",
        "\n",
        "plt.show()"
      ],
      "metadata": {
        "colab": {
          "base_uri": "https://localhost:8080/",
          "height": 450
        },
        "id": "Buj2nYAzIZcz",
        "outputId": "77af8dc8-7be7-4695-b92e-5f19e6487f63"
      },
      "execution_count": 66,
      "outputs": [
        {
          "output_type": "display_data",
          "data": {
            "text/plain": [
              "<Figure size 640x480 with 1 Axes>"
            ],
            "image/png": "[encoded data removed]"
          },
          "metadata": {}
        }
      ]
    },
    {
      "cell_type": "markdown",
      "source": [
        "**Histogram**\n",
        "\n",
        "Use the **kind** argument to specify that you want a histogram:\n",
        "\n",
        "**kind = 'hist'**\n",
        "\n",
        "A histogram needs only one column.\n",
        "\n",
        "A histogram shows us the frequency of each interval.\n"
      ],
      "metadata": {
        "id": "gMziyJDvI8vs"
      }
    },
    {
      "cell_type": "code",
      "source": [
        "df[\"population\"].plot(kind = 'hist')"
      ],
      "metadata": {
        "colab": {
          "base_uri": "https://localhost:8080/",
          "height": 447
        },
        "id": "whEMOG34JFdG",
        "outputId": "3320c501-61e9-4ae4-b2c5-43b88e478e89"
      },
      "execution_count": 68,
      "outputs": [
        {
          "output_type": "execute_result",
          "data": {
            "text/plain": [
              "<Axes: ylabel='Frequency'>"
            ]
          },
          "metadata": {},
          "execution_count": 68
        },
        {
          "output_type": "display_data",
          "data": {
            "text/plain": [
              "<Figure size 640x480 with 1 Axes>"
            ],
            "image/png": "[encoded data removed]"
          },
          "metadata": {}
        }
      ]
    }
  ]
}